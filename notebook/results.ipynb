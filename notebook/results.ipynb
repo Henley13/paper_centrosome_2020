{
 "cells": [
  {
   "cell_type": "markdown",
   "metadata": {},
   "source": [
    "# Results"
   ]
  },
  {
   "cell_type": "code",
   "execution_count": null,
   "metadata": {
    "ExecuteTime": {
     "end_time": "2020-10-30T20:17:38.251454Z",
     "start_time": "2020-10-30T20:17:37.582729Z"
    }
   },
   "outputs": [],
   "source": [
    "import os\n",
    "import pandas as pd\n",
    "import numpy as np\n",
    "import matplotlib.pyplot as plt\n",
    "from matplotlib.patches import Patch\n",
    "import seaborn as sns"
   ]
  },
  {
   "cell_type": "code",
   "execution_count": null,
   "metadata": {
    "ExecuteTime": {
     "end_time": "2020-10-30T20:17:38.255949Z",
     "start_time": "2020-10-30T20:17:38.253506Z"
    }
   },
   "outputs": [],
   "source": [
    "path_plot = \"../plots\""
   ]
  },
  {
   "cell_type": "markdown",
   "metadata": {
    "heading_collapsed": true
   },
   "source": [
    "## Dataset"
   ]
  },
  {
   "cell_type": "markdown",
   "metadata": {
    "heading_collapsed": true,
    "hidden": true
   },
   "source": [
    "### Read dataset"
   ]
  },
  {
   "cell_type": "code",
   "execution_count": null,
   "metadata": {
    "ExecuteTime": {
     "end_time": "2020-10-30T20:17:38.457393Z",
     "start_time": "2020-10-30T20:17:38.258604Z"
    },
    "hidden": true
   },
   "outputs": [],
   "source": [
    "path = os.path.join(\"./features.csv\")\n",
    "df = pd.read_csv(path, sep=';', encoding=\"utf-8\", low_memory=False)\n",
    "print(df.shape)\n",
    "df.head()"
   ]
  },
  {
   "cell_type": "markdown",
   "metadata": {
    "heading_collapsed": true,
    "hidden": true
   },
   "source": [
    "### Explore dataset"
   ]
  },
  {
   "cell_type": "code",
   "execution_count": null,
   "metadata": {
    "ExecuteTime": {
     "end_time": "2020-10-30T20:17:38.469147Z",
     "start_time": "2020-10-30T20:17:38.459491Z"
    },
    "hidden": true
   },
   "outputs": [],
   "source": [
    "print(\"Interest:\")\n",
    "print(set(df.loc[~df.loc[:, \"control\"], \"gene\"]))\n",
    "print(\"Control:\")\n",
    "print(set(df.loc[df.loc[:, \"control\"], \"gene\"]))"
   ]
  },
  {
   "cell_type": "code",
   "execution_count": null,
   "metadata": {
    "ExecuteTime": {
     "end_time": "2020-10-30T20:17:38.490437Z",
     "start_time": "2020-10-30T20:17:38.471150Z"
    },
    "hidden": true
   },
   "outputs": [],
   "source": [
    "pd.set_option('display.max_rows', 500)\n",
    "df.loc[:, [\"cell_id\", \"cell_line\", \"treatment_duration\", \"plate\"]].groupby(\n",
    "    by=[\"cell_line\", \"treatment_duration\", \"plate\"]).count()"
   ]
  },
  {
   "cell_type": "code",
   "execution_count": null,
   "metadata": {
    "ExecuteTime": {
     "end_time": "2020-10-30T20:17:38.501717Z",
     "start_time": "2020-10-30T20:17:38.492389Z"
    },
    "hidden": true
   },
   "outputs": [],
   "source": [
    "df.loc[:, \"label_mitosis\"].value_counts()"
   ]
  },
  {
   "cell_type": "code",
   "execution_count": null,
   "metadata": {
    "ExecuteTime": {
     "end_time": "2020-10-30T20:17:38.513004Z",
     "start_time": "2020-10-30T20:17:38.503478Z"
    },
    "hidden": true
   },
   "outputs": [],
   "source": [
    "df.loc[:, \"label_mitosis_aggregated\"].value_counts()"
   ]
  },
  {
   "cell_type": "code",
   "execution_count": null,
   "metadata": {
    "ExecuteTime": {
     "end_time": "2020-10-30T20:17:38.538284Z",
     "start_time": "2020-10-30T20:17:38.516229Z"
    },
    "hidden": true
   },
   "outputs": [],
   "source": [
    "pd.set_option('display.max_rows', 500)\n",
    "df.loc[:, [\"cell_id\", \"cell_line\", \"gene\", \"treatment\"]].groupby(\n",
    "    by=[\"cell_line\", \"gene\", \"treatment\"]).count()"
   ]
  },
  {
   "cell_type": "markdown",
   "metadata": {
    "heading_collapsed": true
   },
   "source": [
    "## Plot functions"
   ]
  },
  {
   "cell_type": "code",
   "execution_count": null,
   "metadata": {
    "ExecuteTime": {
     "end_time": "2020-10-30T20:17:38.568507Z",
     "start_time": "2020-10-30T20:17:38.541156Z"
    },
    "hidden": true
   },
   "outputs": [],
   "source": [
    "def q1(x):\n",
    "    return x.quantile(0.25)\n",
    "\n",
    "def q3(x):\n",
    "    return x.quantile(0.75)\n",
    "\n",
    "def get_nb_cells(data, keys_distribution, key_feature=\"key\", main_keys=None, sum_gene=False, sum_treatment=False):    \n",
    "    # parameters warnings\n",
    "    if sum_gene and sum_treatment:\n",
    "        raise ValueError(\"Error 'get_nb_cells'!\")\n",
    "    if main_keys is None and (sum_gene or sum_treatment):\n",
    "        raise ValueError(\"Error 'get_nb_cells'!\")\n",
    "\n",
    "    # get number of cells for each key to plot (summed or not)\n",
    "    x_labels = []\n",
    "    for key in keys_distribution:\n",
    "        \n",
    "        # count cells\n",
    "        if sum_gene and not sum_treatment:\n",
    "            gene = key.split(\"_\")[0]\n",
    "            nb_cells = int(data.loc[data.loc[:, \"gene\"] == gene, \n",
    "                                [\"cell_id\", \"gene\"]].groupby(\"gene\").count().sum())\n",
    "        elif sum_treatment and not sum_gene:\n",
    "            treatment = key.split(\"_\")[1]\n",
    "            nb_cells = int(data.loc[data.loc[:, \"treatment\"] == treatment, \n",
    "                                [\"cell_id\", \"treatment\"]].groupby(\"treatment\").count().sum())\n",
    "        else:\n",
    "            nb_cells = int(data.loc[data.loc[:, key_feature] == key, \n",
    "                                    [\"cell_id\", key_feature]].groupby(key_feature).count().sum())\n",
    "        \n",
    "        # create label\n",
    "        if main_keys is not None and key in main_keys:\n",
    "            if sum_gene:\n",
    "                main_key = key.split(\"_\")[0].upper()\n",
    "            else:\n",
    "                main_key_ = key.split(\"_\")[1]\n",
    "                if main_key_ == \"untreated\": \n",
    "                    main_key = \"Untreated\"\n",
    "                elif main_key_ == \"puro\": \n",
    "                    main_key = \"Puromycin\"\n",
    "                else: \n",
    "                    main_key = \"Cycloheximide\"\n",
    "            new_label = \"{0} - {1} cells\".format(main_key, nb_cells)\n",
    "        elif main_keys is not None and key not in main_keys:\n",
    "            if sum_gene or sum_treatment:\n",
    "                new_label = \"\"\n",
    "            else:\n",
    "                new_label = \"{0} cells\".format(nb_cells)\n",
    "        else:\n",
    "            new_label = \"{0} cells\".format(nb_cells)\n",
    "        x_labels.append(new_label)\n",
    "\n",
    "    # create x_ticks\n",
    "    x_ticks = [i for i in range(len(x_labels))]\n",
    "    \n",
    "    return x_ticks, x_labels\n",
    "\n",
    "def get_whiskers_values(data, feature, key_feature=\"key\"):\n",
    "    # get whiskers values\n",
    "    max_value = data.loc[:, feature].max()\n",
    "    min_value = data.loc[:, feature].min()\n",
    "    df_whiskers = data.loc[:, [key_feature, feature]].groupby(by=key_feature).agg([q1, q3]).stack(level=0)\n",
    "    df_whiskers[\"IQR\"] = df_whiskers[\"q3\"] - df_whiskers[\"q1\"]\n",
    "    df_whiskers[\"whiskers_top\"] = df_whiskers[\"q3\"] + df_whiskers[\"IQR\"] * 1.5\n",
    "    df_whiskers[\"whiskers_bottom\"] = df_whiskers[\"q1\"] - df_whiskers[\"IQR\"] * 1.5\n",
    "    max_whiskers_top = min(df_whiskers[\"whiskers_top\"].max(), max_value)\n",
    "    min_whiskers_bottom = max(df_whiskers[\"whiskers_bottom\"].min(), min_value)\n",
    "    marge = 5 * max_whiskers_top / 100\n",
    "    \n",
    "    return max_whiskers_top, min_whiskers_bottom, marge\n",
    "\n",
    "def plot_boxplot(data, feature, keys_distribution, ax, show_whisker, show_flier, random_flier, \n",
    "                 key_feature=\"key\", hue_feature=None, color=None):\n",
    "    # boxplot\n",
    "    boxprops = dict(linestyle='-', linewidth=2, edgecolor='black')\n",
    "    flierprops = dict(marker='.', markerfacecolor='gray', markersize=5, markeredgecolor='gray')\n",
    "    medianprops = dict(linestyle='-', linewidth=2, color='black')\n",
    "    meanprops = dict(marker='D', markeredgecolor='black', markerfacecolor='firebrick')\n",
    "    capprops = dict(linestyle='-', linewidth=1.5, color='grey')\n",
    "    whiskerprops = dict(linestyle='-', linewidth=1.5, color='grey')\n",
    "    if hue_feature is None:\n",
    "        palette = [\"#66c2a5\", \"#fc8d62\", \"#8da0cb\"]\n",
    "        hue_order = None\n",
    "    else:\n",
    "        palette = [\"#66c2a5\", \"#fc8d62\", \"#8da0cb\"]\n",
    "        hue_order = [\"untreated\", \"chx\", \"puro\"]\n",
    "    if color is not None:\n",
    "        palette = color\n",
    "    if show_whisker:\n",
    "        sns.boxplot(y=key_feature, x=feature, hue=hue_feature,\n",
    "                    data=data, order=keys_distribution, hue_order=hue_order, ax=ax,\n",
    "                    color=\"#4daf4a\", palette=palette, orient=\"h\",\n",
    "                    showmeans=True, meanline=False, meanprops=meanprops,\n",
    "                    boxprops=boxprops,\n",
    "                    showfliers=show_flier, flierprops=flierprops, \n",
    "                    medianprops=medianprops, \n",
    "                    capprops=capprops,\n",
    "                    whiskerprops=whiskerprops, whis=1.5)\n",
    "    else:\n",
    "        sns.boxplot(y=key_feature, x=feature, hue=hue_feature,\n",
    "                    data=data, order=keys_distribution, hue_order=hue_order, ax=ax,\n",
    "                    color=\"#4daf4a\", palette=palette, orient=\"h\",\n",
    "                    showmeans=True, meanline=False, meanprops=meanprops,\n",
    "                    boxprops=boxprops,\n",
    "                    showfliers=show_flier, flierprops=flierprops, \n",
    "                    medianprops=medianprops, \n",
    "                    showcaps=False, capprops=capprops,\n",
    "                    whiskerprops=whiskerprops, whis=0)\n",
    "\n",
    "    # scatter plot\n",
    "    if random_flier:\n",
    "        data_ = data.query(\"{0} in {1}\".format(key_feature, keys_distribution))\n",
    "        int_key = {}\n",
    "        for i, key in enumerate(keys_distribution):\n",
    "            int_key[key] = i\n",
    "        values_y = data_.apply(lambda row: int_key[row[key_feature]], axis=1)\n",
    "        values_y = np.random.uniform(low=-0.34, high=0.34, size=len(values_y)) + values_y\n",
    "        values_x = data_.loc[:, feature]\n",
    "        plt.scatter(x=values_x, y=values_y, c='gray', s=10, alpha=0.1)\n",
    "        \n",
    "    return\n",
    "\n",
    "def format_axes(y_ticks, y_labels, xlim, min_whiskers_bottom, max_whiskers_top, marge, rotation_y=0):\n",
    "    # axes\n",
    "    plt.xticks(fontweight=\"bold\", fontsize=15)\n",
    "    plt.yticks(ticks=y_ticks, labels=y_labels, rotation=rotation_y, fontweight=\"bold\", fontsize=15)\n",
    "    plt.xlabel(\"\")\n",
    "    plt.ylabel(\"\")\n",
    "    if xlim is \"auto\":\n",
    "        plt.xlim(min_whiskers_bottom - marge, max_whiskers_top + marge)\n",
    "    elif isinstance(xlim, tuple):\n",
    "        plt.xlim(xlim[0], xlim[1])\n",
    "    plt.ylim(y_ticks[-1] + 0.5, y_ticks[0] - 0.5)\n",
    "\n",
    "    return\n",
    "\n",
    "def save_frame(path_output, extension):\n",
    "    # save frame\n",
    "    if path_output is not None and extension is not None:\n",
    "        if isinstance(extension, str):\n",
    "            path_output_ = path_output + \".\" + extension \n",
    "            plt.savefig(path_output_, format=extension, bbox_inches=\"tight\", dpi=\"figure\")\n",
    "        elif isinstance(extension, list):\n",
    "            for extension_ in extension:\n",
    "                path_output_ = path_output + \".\" + extension_\n",
    "                plt.savefig(path_output_, format=extension_, bbox_inches=\"tight\", dpi=\"figure\")\n",
    "    \n",
    "    return"
   ]
  },
  {
   "cell_type": "markdown",
   "metadata": {
    "heading_collapsed": true
   },
   "source": [
    "## Statistical tests"
   ]
  },
  {
   "cell_type": "code",
   "execution_count": null,
   "metadata": {
    "ExecuteTime": {
     "end_time": "2020-10-30T20:17:38.572713Z",
     "start_time": "2020-10-30T20:17:38.570179Z"
    },
    "hidden": true
   },
   "outputs": [],
   "source": [
    "from scipy.stats import ttest_ind"
   ]
  },
  {
   "cell_type": "code",
   "execution_count": null,
   "metadata": {
    "ExecuteTime": {
     "end_time": "2020-10-30T20:17:38.594719Z",
     "start_time": "2020-10-30T20:17:38.575206Z"
    },
    "hidden": true
   },
   "outputs": [],
   "source": [
    "def welch_t_test(bigger_key, smaller_key, key, feature, data, alpha=0.001, verbose=True, two_tail=True):\n",
    "    bigger_values = data.loc[data.loc[:, key] == bigger_key, feature]\n",
    "    smaller_values = data.loc[data.loc[:, key] == smaller_key, feature]\n",
    "    \n",
    "    if two_tail:\n",
    "    \n",
    "        if verbose:\n",
    "            print(\"Feature: {0}\".format(feature))\n",
    "            print(\"{0}: mean {1:.3f} | std {2:.3f}\".format(bigger_key, np.mean(bigger_values), np.std(bigger_values)))\n",
    "            print(\"{0}: mean {1:.3f} | std {2:.3f}\".format(smaller_key, np.mean(smaller_values), np.std(smaller_values)))\n",
    "            print(\"\\tH0: {0} == {1}\".format(bigger_key, smaller_key))\n",
    "            print(\"\\tH1: {0} != {1}\".format(bigger_key, smaller_key))\n",
    "        \n",
    "        t, p = ttest_ind(bigger_values, smaller_values, equal_var=False, nan_policy='raise')\n",
    "        \n",
    "        if p < alpha:\n",
    "            print(\"\\t=> H0 rejected at the significant level {0:.4f} (t statistic {1:.3f} | p-value {2:.4f})\".format(alpha, t, p))\n",
    "        else:\n",
    "            print(\"\\t=> H0 not rejected at the significant level {0:.4f} (t statistic {1:.3f} | p-value {2:.4f})\".format(alpha, t, p))\n",
    "    \n",
    "    else:\n",
    "\n",
    "        if verbose:\n",
    "            print(\"Feature: {0}\".format(feature))\n",
    "            print(\"{0}: mean {1:.3f} | std {2:.3f}\".format(bigger_key, np.mean(bigger_values), np.std(bigger_values)))\n",
    "            print(\"{0}: mean {1:.3f} | std {2:.3f}\".format(smaller_key, np.mean(smaller_values), np.std(smaller_values)))\n",
    "            print(\"\\tH0: {0} <= {1}\".format(bigger_key, smaller_key))\n",
    "            print(\"\\tH1: {0} > {1}\".format(bigger_key, smaller_key))\n",
    "\n",
    "        if np.mean(smaller_values) > np.mean(bigger_values):\n",
    "            print(\"\\t=> H0 not rejected because {0} is greater than {1}\".format(smaller_key, bigger_key))\n",
    "            return\n",
    "        else:\n",
    "            t, p = ttest_ind(bigger_values, smaller_values, equal_var=False, nan_policy='raise')\n",
    "            p /= 2\n",
    "            alpha /= 2\n",
    "\n",
    "        if p < alpha:\n",
    "            if t > 0:\n",
    "                print(\"\\t=> H0 rejected at the significant level {0:.3f} (t statistic {1:.3f} | p-value {2:.4f})\".format(alpha, t, p))\n",
    "            else:\n",
    "                raise ValueError(\"t statistic: {0:.3f}\".format(t))\n",
    "        else:\n",
    "            if t > 0:\n",
    "                print(\"\\t=> H0 not rejected at the significant level {0:.3f} (t statistic {1:.3f} | p-value {2:.4f})\".format(alpha, t, p))\n",
    "            else:\n",
    "                raise ValueError(\"t statistic: {0:.3f}\".format(t))\n",
    "                \n",
    "welch_t_test(bigger_key=\"bicd2_untreated\", smaller_key=\"bicd2_puro\", key=\"key\", \n",
    "             feature=\"proportion_rna_centrosome\", data=df)"
   ]
  },
  {
   "cell_type": "code",
   "execution_count": null,
   "metadata": {
    "ExecuteTime": {
     "end_time": "2020-10-30T20:17:38.691093Z",
     "start_time": "2020-10-30T20:17:38.597019Z"
    },
    "hidden": true
   },
   "outputs": [],
   "source": [
    "keys_distributions = [['bicd2_untreated', 'bicd2_puro', False], \n",
    "                      ['nin_untreated', 'nin_puro', False],                      \n",
    "                      ['ccdc88c_untreated','ccdc88c_puro', False],                      \n",
    "                      ['pcnt_untreated', 'pcnt_puro', False],                       \n",
    "                      ['cep350_untreated', 'cep350_puro', False],\n",
    "                      ['hmmr_untreated', 'hmmr_puro', False],\n",
    "                      ['aspm_untreated', 'aspm_puro', False],\n",
    "                      ['numa1_untreated', 'numa1_puro', False],\n",
    "                      ['trim59_untreated','trim59_puro', False],                      \n",
    "                      ['ttbk2_untreated', 'ttbk2_puro', False]]\n",
    "\n",
    "\n",
    "for pairs in keys_distributions:\n",
    "    print(\"############################################\")\n",
    "    welch_t_test(bigger_key=pairs[0], smaller_key=pairs[1], key=\"key\",\n",
    "                 feature=\"proportion_rna_centrosome\", data=df, \n",
    "                 two_tail=pairs[2], alpha=0.002)\n",
    "    print(\"\\n\")"
   ]
  },
  {
   "cell_type": "code",
   "execution_count": null,
   "metadata": {
    "ExecuteTime": {
     "end_time": "2020-10-30T20:17:38.781265Z",
     "start_time": "2020-10-30T20:17:38.694811Z"
    },
    "hidden": true
   },
   "outputs": [],
   "source": [
    "keys_distributions = [['bicd2_untreated', 'bicd2_chx', False],\n",
    "                      ['nin_untreated', 'nin_chx', False],\n",
    "                      ['ccdc88c_untreated', 'ccdc88c_chx', False],\n",
    "                      ['pcnt_untreated', 'pcnt_chx', False],\n",
    "                      ['cep350_untreated', 'cep350_chx', False],\n",
    "                      ['hmmr_untreated', 'hmmr_chx', False],\n",
    "                      ['aspm_untreated', 'aspm_chx', False],\n",
    "                      ['numa1_untreated', 'numa1_chx', False],\n",
    "                      ['trim59_untreated', 'trim59_chx', False],\n",
    "                      ['ttbk2_untreated', 'ttbk2_chx', False]]\n",
    "\n",
    "\n",
    "for pairs in keys_distributions:\n",
    "    print(\"############################################\")\n",
    "    welch_t_test(bigger_key=pairs[0], smaller_key=pairs[1], key=\"key\",\n",
    "                 feature=\"proportion_rna_centrosome\", data=df, \n",
    "                 two_tail=pairs[2], alpha=0.002)\n",
    "    print(\"\\n\")"
   ]
  },
  {
   "cell_type": "markdown",
   "metadata": {
    "heading_collapsed": true
   },
   "source": [
    "## Plots"
   ]
  },
  {
   "cell_type": "code",
   "execution_count": null,
   "metadata": {
    "ExecuteTime": {
     "end_time": "2020-10-30T20:17:38.797624Z",
     "start_time": "2020-10-30T20:17:38.783290Z"
    },
    "hidden": true
   },
   "outputs": [],
   "source": [
    "def plot_final(feature, data,\n",
    "               figsize=(15, 10), xlim=\"auto\", vertical_line=None,\n",
    "               show_whisker=False, show_flier=False, random_flier=True,\n",
    "               path_output=None, extension=None):\n",
    "\n",
    "    # parameters\n",
    "    genes_interest = [\n",
    "        'bicd2', \n",
    "        'nin', \n",
    "        'ccdc88c',\n",
    "        'pcnt', \n",
    "        'cep350',\n",
    "        'hmmr']\n",
    "    \n",
    "    genes_control = [\n",
    "        'trim59',\n",
    "        'ttbk2',\n",
    "        'kif1c',\n",
    "        'dync1h1']\n",
    "    genes = genes_interest + genes_control\n",
    "    \n",
    "    keys_distribution = []\n",
    "    main_keys = []\n",
    "    for gene in genes:\n",
    "        for treatment in [\"untreated\", \"puro\", \"chx\"]:\n",
    "            if gene in [\"kif1c\", \"dync1h1\"] and treatment in [\"puro\", \"chx\"]:\n",
    "                continue\n",
    "            key = \"{0}_{1}\".format(gene, treatment)\n",
    "            keys_distribution.append(key)\n",
    "            if gene in [\"kif1c\", \"dync1h1\"] and treatment == \"untreated\":\n",
    "                main_keys.append(key)\n",
    "            elif treatment == \"puro\":\n",
    "                main_keys.append(key)\n",
    "    \n",
    "    # get number of cells labels and colors\n",
    "    y_ticks, y_labels = get_nb_cells(\n",
    "        data=data, \n",
    "        keys_distribution=keys_distribution, \n",
    "        key_feature=\"key\", \n",
    "        main_keys=main_keys, \n",
    "        sum_gene=True, \n",
    "        sum_treatment=False)\n",
    "    \n",
    "    palette = [\"#66c2a5\", \"#fc8d62\", \"#8da0cb\",\n",
    "               \"#66c2a5\", \"#fc8d62\", \"#8da0cb\",\n",
    "               \"#66c2a5\", \"#fc8d62\", \"#8da0cb\",\n",
    "               \"#66c2a5\", \"#fc8d62\", \"#8da0cb\",\n",
    "               \"#66c2a5\", \"#fc8d62\", \"#8da0cb\",\n",
    "               \"#66c2a5\", \"#fc8d62\", \"#8da0cb\",\n",
    "               \"#66c2a5\", \"#fc8d62\", \"#8da0cb\",\n",
    "               \"#66c2a5\", \"#fc8d62\", \"#8da0cb\",\n",
    "               \"#66c2a5\", \"#66c2a5\"]\n",
    "    \n",
    "    # get whiskers values\n",
    "    max_whiskers_top, min_whiskers_bottom, marge = get_whiskers_values(\n",
    "        data=data, \n",
    "        feature=feature,\n",
    "        key_feature=\"key\")\n",
    "\n",
    "    # plot\n",
    "    fig, ax = plt.subplots(figsize=figsize)\n",
    "    \n",
    "    # boxplot\n",
    "    plot_boxplot(\n",
    "        data=data, \n",
    "        feature=feature, \n",
    "        keys_distribution=keys_distribution, \n",
    "        ax=ax, \n",
    "        show_whisker=show_whisker, \n",
    "        show_flier=show_flier, \n",
    "        random_flier=random_flier,\n",
    "        key_feature=\"key\",\n",
    "        hue_feature=None,\n",
    "        color=palette)\n",
    "\n",
    "    # lines\n",
    "    for i in range(2, 23, 3):\n",
    "        plt.axhline(y=i+0.5, c=\"firebrick\", linewidth=2, linestyle=\":\")\n",
    "    plt.axhline(y=24.5, c=\"firebrick\", linewidth=2, linestyle=\":\")\n",
    "    plt.axhline(y=14.5, c=\"firebrick\", linewidth=4)\n",
    "    plt.axhline(y=17.5, c=\"firebrick\", linewidth=4)\n",
    "    plt.axhline(y=23.5, c=\"firebrick\", linewidth=4)\n",
    "\n",
    "    if vertical_line is not None:\n",
    "        plt.axvline(x=vertical_line, c=\"steelblue\", lw=2, ls=\"dashed\")\n",
    "\n",
    "    # background color\n",
    "    plt.axhspan(14.5, 17.5, facecolor=\"lightgray\", alpha=0.5)\n",
    "\n",
    "    # axes\n",
    "    format_axes(\n",
    "        y_ticks=y_ticks, \n",
    "        y_labels=y_labels, \n",
    "        xlim=xlim, \n",
    "        min_whiskers_bottom=min_whiskers_bottom, \n",
    "        max_whiskers_top=max_whiskers_top, \n",
    "        marge=marge)\n",
    "\n",
    "    legend_untreated = Patch(facecolor=\"#66c2a5\", edgecolor=\"black\", label=\"Untreated\")\n",
    "    legend_puro = Patch(facecolor=\"#fc8d62\", edgecolor=\"black\", label=\"Puromycin (10mn)\")\n",
    "    legend_chx = Patch(facecolor=\"#8da0cb\", edgecolor=\"black\", label=\"Cycloheximide (10mn)\")\n",
    "    legend_elements = [legend_untreated, legend_puro, legend_chx]\n",
    "    plt.legend(handles=legend_elements, prop={'size': 15})\n",
    "\n",
    "    plt.tight_layout()\n",
    "    \n",
    "    # save frame\n",
    "    save_frame(\n",
    "        path_output=path_output, \n",
    "        extension=extension)\n",
    "    \n",
    "    # show frame\n",
    "    plt.show()\n",
    "    \n",
    "    return"
   ]
  },
  {
   "cell_type": "code",
   "execution_count": null,
   "metadata": {
    "ExecuteTime": {
     "end_time": "2020-10-30T20:17:40.972309Z",
     "start_time": "2020-10-30T20:17:38.799654Z"
    },
    "hidden": true
   },
   "outputs": [],
   "source": [
    "path = os.path.join(path_plot, \"all_proportion_rna_centrosome\")\n",
    "plot_final(\"proportion_rna_centrosome\", df,\n",
    "           figsize=(15, 10), xlim=\"auto\", vertical_line=None,\n",
    "           show_whisker=True, show_flier=False, random_flier=False,\n",
    "           path_output=path, extension=[\"png\", \"pdf\"])"
   ]
  }
 ],
 "metadata": {
  "kernelspec": {
   "display_name": "Python [conda env:general]",
   "language": "python",
   "name": "conda-env-general-py"
  },
  "language_info": {
   "codemirror_mode": {
    "name": "ipython",
    "version": 3
   },
   "file_extension": ".py",
   "mimetype": "text/x-python",
   "name": "python",
   "nbconvert_exporter": "python",
   "pygments_lexer": "ipython3",
   "version": "3.6.8"
  }
 },
 "nbformat": 4,
 "nbformat_minor": 2
}
